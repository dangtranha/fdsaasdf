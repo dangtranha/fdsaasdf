{
 "cells": [
  {
   "cell_type": "code",
   "execution_count": 1,
   "metadata": {},
   "outputs": [],
   "source": [
    "import pandas as pd\n",
    "import numpy as np\n",
    "import os\n",
    "from pathlib import Path\n",
    "import matplotlib.pyplot as plt\n",
    "import sklearn\n",
    "from sklearn.model_selection import train_test_split\n",
    "from sklearn.metrics import precision_score, recall_score, f1_score, accuracy_score, confusion_matrix, ConfusionMatrixDisplay\n",
    "from sklearn.ensemble import RandomForestClassifier\n",
    "from sklearn.model_selection import GridSearchCV\n",
    "import pickle\n",
    "import inspect"
   ]
  },
  {
   "cell_type": "code",
   "execution_count": 2,
   "metadata": {},
   "outputs": [],
   "source": [
    "def random_forest(train_X, train_y, test_X, n_estimators=10, min_samples_leaf=5, criterion='entropy', print_model_details=False, gridsearch=True, save_model=False):\n",
    "\n",
    "    if gridsearch:\n",
    "        tuned_parameters = [{'min_samples_leaf': [2, 10, 50, 100, 200],\n",
    "                             'n_estimators':[10, 50, 100],\n",
    "                             'criterion':['gini', 'entropy']}]\n",
    "        rf = GridSearchCV(RandomForestClassifier(), tuned_parameters, cv=5, scoring='accuracy', error_score= 'raise')\n",
    "    else:\n",
    "        rf = RandomForestClassifier(n_estimators=n_estimators, min_samples_leaf=min_samples_leaf, criterion=criterion)\n",
    "\n",
    "    # Fit the model\n",
    "\n",
    "    rf.fit(train_X, train_y.values.ravel())\n",
    "\n",
    "    if gridsearch and print_model_details:\n",
    "        print(rf.best_params_)\n",
    "\n",
    "    if gridsearch:\n",
    "        rf = rf.best_estimator_\n",
    "\n",
    "    pred_prob_training_y = rf.predict_proba(train_X)\n",
    "    pred_prob_test_y = rf.predict_proba(test_X)\n",
    "    pred_training_y = rf.predict(train_X)\n",
    "    pred_test_y = rf.predict(test_X)\n",
    "    frame_prob_training_y = pd.DataFrame(pred_prob_training_y, columns=rf.classes_)\n",
    "    frame_prob_test_y = pd.DataFrame(pred_prob_test_y, columns=rf.classes_)\n",
    "\n",
    "    if print_model_details:\n",
    "        ordered_indices = [i[0] for i in sorted(enumerate(rf.feature_importances_), key=lambda x:x[1], reverse=True)]\n",
    "        print('Top 20 feature importances random forest:')\n",
    "        for i in range(0, 20):\n",
    "            print(train_X.columns[ordered_indices[i]], end='')\n",
    "            print(' & ', end='')\n",
    "            print(rf.feature_importances_[ordered_indices[i]])\n",
    "    \n",
    "    if save_model:\n",
    "        # save the model to disk\n",
    "        filename = 'final_' + str(inspect.stack()[0][3]) + '_model_BCI.sav'\n",
    "        pickle.dump(rf, open(filename, 'wb'))\n",
    "\n",
    "    return pred_training_y, pred_test_y, frame_prob_training_y, frame_prob_test_y"
   ]
  },
  {
   "cell_type": "code",
   "execution_count": 3,
   "metadata": {},
   "outputs": [],
   "source": [
    "DRUNK_PATH = Path('./Dataset/step3_result/drunk/')\n",
    "NONDRUNK_PATH = Path('./Dataset/step3_result/non_drunk/')\n",
    "# all_drunk_dataset = pd.read_csv('./Dataset/step3_result/concatenated/drunk.csv')\n",
    "# all_nondrunk_dataset = pd.read_csv('./Dataset/step3_result/concatenated/nondrunk.csv')"
   ]
  },
  {
   "cell_type": "code",
   "execution_count": 4,
   "metadata": {},
   "outputs": [],
   "source": [
    "# Creating a merged Drunk and Non-drunk dataframe seperately \n",
    "WINDOW_SIZE = 50\n",
    "\n",
    "all_drunk_dataset = []\n",
    "all_nondrunk_dataset = []\n",
    "\n",
    "for instance in os.scandir(DRUNK_PATH): \n",
    "    instance_path = instance.path\n",
    "    dataset = pd.read_csv(instance_path, index_col=0)\n",
    "    dataset.index = pd.to_datetime(dataset.index)\n",
    "    dataset = dataset.drop(columns='check')\n",
    "    all_drunk_dataset.append(dataset)\n",
    "\n",
    "for instance in os.scandir(NONDRUNK_PATH): \n",
    "    instance_path = instance.path\n",
    "    dataset = pd.read_csv(instance_path, index_col=0)\n",
    "    dataset.index = pd.to_datetime(dataset.index)\n",
    "    dataset = dataset.drop(columns='check')\n",
    "    all_nondrunk_dataset.append(dataset)"
   ]
  },
  {
   "cell_type": "code",
   "execution_count": 5,
   "metadata": {},
   "outputs": [],
   "source": [
    "# Data manipulation into interval of 5 seconds\n",
    "X = []\n",
    "y = []\n",
    "\n",
    "# sum1 = 0\n",
    "# sum2 = 0\n",
    "\n",
    "for i in range (len(all_drunk_dataset)):\n",
    "    df = all_drunk_dataset[i].to_numpy()\n",
    "    # print(len(df))\n",
    "    # sum1 += len(df)\n",
    "    # for j in range (0,len(df) - WINDOW_SIZE):\n",
    "    #     col = [a for a in df[j:j+WINDOW_SIZE]]\n",
    "    #     X.append(col)\n",
    "    #     y.append(1)\n",
    "\n",
    "for i in range (len(all_nondrunk_dataset)):\n",
    "    df = all_nondrunk_dataset[i].to_numpy()\n",
    "    # print(len(df))\n",
    "    # sum2 += len(df)\n",
    "    # for j in range (0,len(df) - WINDOW_SIZE):\n",
    "    #     col = [a for a in df[j:j+WINDOW_SIZE]]\n",
    "    #     X.append(col)\n",
    "    #     y.append(0)\n",
    "    \n",
    "X_df = pd.DataFrame(data=X)\n",
    "y_df = pd.DataFrame(data=y)\n",
    "X_train, X_test, y_train, y_test = train_test_split(X_df, y_df, test_size=0.2)\n",
    "X_train, X_val, y_train, y_val = train_test_split(X_train, y_train, test_size=0.25)"
   ]
  },
  {
   "cell_type": "code",
   "execution_count": 6,
   "metadata": {},
   "outputs": [
    {
     "name": "stdout",
     "output_type": "stream",
     "text": [
      "(4000, 584) (4000,)\n",
      "(1000, 584) (1000,)\n"
     ]
    }
   ],
   "source": [
    "# # Data manipulation from regular train test split\n",
    "drunk_df = pd.read_csv('./Dataset/step3_result/concatenated/drunk.csv')\n",
    "nondrunk_df = pd.read_csv('./Dataset/step3_result/concatenated/nondrunk.csv')\n",
    "\n",
    "drunk_df = drunk_df.dropna(axis=0)\n",
    "nondrunk_df = nondrunk_df.dropna(axis=0)\n",
    "\n",
    "y_drunk = drunk_df['check']\n",
    "X_drunk = drunk_df.drop(columns='check')\n",
    "X_drunk = X_drunk.drop(columns=X_drunk.columns[0])\n",
    "\n",
    "y_nondrunk = nondrunk_df['check']\n",
    "X_nondrunk = nondrunk_df.drop(columns='check')\n",
    "X_nondrunk = X_nondrunk.drop(columns=X_nondrunk.columns[0])\n",
    "\n",
    "X_drunk, y_drunk = X_drunk[:2500], y_drunk[:2500]\n",
    "X_nondrunk, y_nondrunk = X_nondrunk[:2500], y_nondrunk[:2500]\n",
    "\n",
    "X_train_drunk, X_test_drunk, y_train_drunk, y_test_drunk = train_test_split(X_drunk, y_drunk, test_size=0.2)\n",
    "# X_train_drunk, X_val_drunk, y_train_drunk, y_val_drunk = train_test_split(X_train_drunk, y_train_drunk, test_size=0.25) #split train and validation dataset\n",
    "\n",
    "X_train_nondrunk, X_test_nondrunk, y_train_nondrunk, y_test_nondrunk = train_test_split(X_nondrunk, y_nondrunk, test_size=0.2)\n",
    "# X_train_nondrunk, X_val_nondrunk, y_train_nondrunk, y_val_nondrunk = train_test_split(X_train_nondrunk, y_train_nondrunk, test_size=0.25)\n",
    "\n",
    "X_train = pd.concat([X_train_drunk, X_train_nondrunk])\n",
    "X_test = pd.concat([X_test_drunk, X_test_nondrunk])\n",
    "# X_val = pd.concat([X_val_drunk, X_val_nondrunk])\n",
    "y_train = pd.concat([y_train_drunk, y_train_nondrunk])\n",
    "y_test = pd.concat([y_test_drunk, y_test_nondrunk])\n",
    "# y_val = pd.concat([y_val_drunk, y_val_nondrunk])\n",
    "\n",
    "print(np.shape(X_train),np.shape(y_train))\n",
    "print(np.shape(X_test),np.shape(y_test))"
   ]
  },
  {
   "cell_type": "code",
   "execution_count": 7,
   "metadata": {},
   "outputs": [
    {
     "name": "stdout",
     "output_type": "stream",
     "text": [
      "Top 20 feature importances random forest:\n",
      "Gamma_TP9_temp_mean_ws_20 & 0.13072819455221846\n",
      "Gamma_AF8_temp_mean_ws_30 & 0.0661394616603207\n",
      "Gamma_TP9_temp_max_ws_10 & 0.05171186994532885\n",
      "Delta_AF8_temp_std_ws_30 & 0.03279740135253473\n",
      "Gamma_TP9_temp_mean_ws_30 & 0.030542140234361397\n",
      "Beta_TP9_temp_mean_ws_30 & 0.030541436267873118\n",
      "Gamma_TP10_temp_min_ws_20 & 0.028014367640840965\n",
      "Gamma_AF8_temp_median_ws_20 & 0.027049285236559906\n",
      "Beta_TP9_temp_min_ws_20 & 0.02675733712316289\n",
      "Gamma_TP9_temp_max_ws_30 & 0.026402748415998257\n",
      "Gamma_TP9_temp_min_ws_10 & 0.025387960188237507\n",
      "Gamma_TP9 & 0.025104907419105937\n",
      "Gamma_TP9_temp_max_ws_20 & 0.023970790974167617\n",
      "Delta_AF7_temp_std_ws_30 & 0.020887294934151545\n",
      "Gamma_TP9_temp_median_ws_30 & 0.020701298945249358\n",
      "Theta_AF8_temp_std_ws_30 & 0.020429616984370787\n",
      "Gamma_TP10_temp_max_ws_30 & 0.01891583926833036\n",
      "Gamma_TP9_temp_min_ws_20 & 0.018709628006189836\n",
      "Beta_TP9_temp_median_ws_30 & 0.01809030000232734\n",
      "Beta_TP10_temp_min_ws_30 & 0.014277770359501276\n",
      "0.996999996999997\n"
     ]
    }
   ],
   "source": [
    "from Step_4_MLmodels.Evaluation import ClassificationEvaluation\n",
    "class_train_y, class_test_y, class_train_prob_y, class_test_prob_y = random_forest(\n",
    "                train_X=X_train, train_y=y_train, test_X=X_test, gridsearch=False, print_model_details=True, save_model=True,\n",
    "            )\n",
    "eval = ClassificationEvaluation()\n",
    "performance_training_rf_final = eval.f1(y_train, class_train_y)\n",
    "performance_test_rf_final = eval.f1(y_test, class_test_y)\n",
    "\n",
    "print(performance_test_rf_final) #test performance is reasonable!"
   ]
  },
  {
   "cell_type": "code",
   "execution_count": 8,
   "metadata": {},
   "outputs": [
    {
     "data": {
      "image/png": "[encoded data removed]",
      "text/plain": [
       "<Figure size 640x480 with 2 Axes>"
      ]
     },
     "metadata": {},
     "output_type": "display_data"
    }
   ],
   "source": [
    "from sklearn.metrics import confusion_matrix, ConfusionMatrixDisplay\n",
    "import matplotlib.pyplot as plt\n",
    "confusionmatrix_rf_final = eval.confusion_matrix(y_test, class_test_y, labels=[0,1])\n",
    "cm_display = ConfusionMatrixDisplay(confusion_matrix = confusionmatrix_rf_final, display_labels = [\"non-drunk\", \"drunk\"])\n",
    "  \n",
    "cm_display.plot(cmap=\"Blues\")\n",
    "plt.show()\n",
    "cm_display.figure_.savefig('rf_confusion_matrix.png')"
   ]
  },
  {
   "cell_type": "code",
   "execution_count": 9,
   "metadata": {},
   "outputs": [
    {
     "name": "stdout",
     "output_type": "stream",
     "text": [
      "Accuracy: 0.997\n",
      "Precision: 0.9960079840319361\n",
      "Recall:  0.998\n",
      "F1 Score:  0.997002997002997\n"
     ]
    }
   ],
   "source": [
    "print(\"Accuracy:\", accuracy_score(y_test, class_test_y))\n",
    "print(\"Precision:\" , precision_score(y_test, class_test_y))\n",
    "print(\"Recall: \", recall_score(y_test, class_test_y))\n",
    "print(\"F1 Score: \", f1_score(y_true=y_test, y_pred=class_test_y))"
   ]
  }
 ],
 "metadata": {
  "kernelspec": {
   "display_name": "deeplearning",
   "language": "python",
   "name": "python3"
  },
  "language_info": {
   "codemirror_mode": {
    "name": "ipython",
    "version": 3
   },
   "file_extension": ".py",
   "mimetype": "text/x-python",
   "name": "python",
   "nbconvert_exporter": "python",
   "pygments_lexer": "ipython3",
   "version": "3.10.8"
  },
  "orig_nbformat": 4
 },
 "nbformat": 4,
 "nbformat_minor": 2
}
