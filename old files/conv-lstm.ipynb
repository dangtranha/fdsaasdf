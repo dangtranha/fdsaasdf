{
 "cells": [
  {
   "cell_type": "code",
   "execution_count": 1,
   "metadata": {},
   "outputs": [],
   "source": [
    "import pandas as pd\n",
    "import numpy as np\n",
    "import os\n",
    "from pathlib import Path\n",
    "from keras.models import Sequential\n",
    "from keras.layers import Dense,TimeDistributed, Bidirectional, Flatten, Conv2D, ConvLSTM2D\n",
    "from keras.layers import BatchNormalization\n",
    "from sklearn.model_selection import train_test_split"
   ]
  },
  {
   "cell_type": "code",
   "execution_count": 2,
   "metadata": {},
   "outputs": [],
   "source": [
    "DRUNK_PATH = Path('./Dataset/step3_result/drunk/')\n",
    "NONDRUNK_PATH = Path('./Dataset/step3_result/non_drunk/')"
   ]
  },
  {
   "cell_type": "code",
   "execution_count": 3,
   "metadata": {},
   "outputs": [
    {
     "name": "stdout",
     "output_type": "stream",
     "text": [
      "(4000, 584)\n",
      "(4000,)\n",
      "(1000, 584)\n",
      "(1000,)\n",
      "count    4000.000000\n",
      "mean        0.500000\n",
      "std         0.500063\n",
      "min         0.000000\n",
      "25%         0.000000\n",
      "50%         0.500000\n",
      "75%         1.000000\n",
      "max         1.000000\n",
      "Name: check, dtype: float64 count    1000.00000\n",
      "mean        0.50000\n",
      "std         0.50025\n",
      "min         0.00000\n",
      "25%         0.00000\n",
      "50%         0.50000\n",
      "75%         1.00000\n",
      "max         1.00000\n",
      "Name: check, dtype: float64\n"
     ]
    }
   ],
   "source": [
    "# # Data manipulation from regular train test split\n",
    "drunk_df = pd.read_csv('./Dataset/step3_result/concatenated/drunk.csv')\n",
    "nondrunk_df = pd.read_csv('./Dataset/step3_result/concatenated/nondrunk.csv')\n",
    "\n",
    "drunk_df = drunk_df.dropna(axis=0)\n",
    "nondrunk_df = nondrunk_df.dropna(axis=0)\n",
    "\n",
    "y_drunk = drunk_df['check']\n",
    "X_drunk = drunk_df.drop(columns='check')\n",
    "X_drunk = X_drunk.drop(columns=X_drunk.columns[0])\n",
    "\n",
    "y_nondrunk = nondrunk_df['check']\n",
    "X_nondrunk = nondrunk_df.drop(columns='check')\n",
    "X_nondrunk = X_nondrunk.drop(columns=X_nondrunk.columns[0])\n",
    "\n",
    "X_drunk, y_drunk = X_drunk[:2500], y_drunk[:2500]\n",
    "X_nondrunk, y_nondrunk = X_nondrunk[:2500], y_nondrunk[:2500]\n",
    "\n",
    "X_train_drunk, X_test_drunk, y_train_drunk, y_test_drunk = train_test_split(X_drunk, y_drunk, test_size=0.2)\n",
    "# X_train_drunk, X_val_drunk, y_train_drunk, y_val_drunk = train_test_split(X_train_drunk, y_train_drunk, test_size=0.25)\n",
    "\n",
    "X_train_nondrunk, X_test_nondrunk, y_train_nondrunk, y_test_nondrunk = train_test_split(X_nondrunk, y_nondrunk, test_size=0.2)\n",
    "# X_train_nondrunk, X_val_nondrunk, y_train_nondrunk, y_val_nondrunk = train_test_split(X_train_nondrunk, y_train_nondrunk, test_size=0.25)\n",
    "\n",
    "X_train = pd.concat([X_train_drunk, X_train_nondrunk])\n",
    "X_test = pd.concat([X_test_drunk, X_test_nondrunk])\n",
    "# X_val = pd.concat([X_val_drunk, X_val_nondrunk])\n",
    "y_train = pd.concat([y_train_drunk, y_train_nondrunk])\n",
    "y_test = pd.concat([y_test_drunk, y_test_nondrunk])\n",
    "# y_val = pd.concat([y_val_drunk, y_val_nondrunk])\n",
    "\n",
    "print(np.shape(X_train))\n",
    "print(np.shape(y_train))\n",
    "print(np.shape(X_test))\n",
    "print(np.shape(y_test))\n",
    "print(y_train.describe(), y_test.describe())\n",
    "# # print(X_train.describe())\n",
    "# # print(X_test.describe())\n",
    "# # print(X_val.describe())\n",
    "# # y_train.describe()"
   ]
  },
  {
   "cell_type": "code",
   "execution_count": null,
   "metadata": {},
   "outputs": [],
   "source": [
    "model = Sequential()\n",
    "\n",
    "model.add(BatchNormalization(shape_input=))"
   ]
  }
 ],
 "metadata": {
  "kernelspec": {
   "display_name": "deeplearning",
   "language": "python",
   "name": "python3"
  },
  "language_info": {
   "codemirror_mode": {
    "name": "ipython",
    "version": 3
   },
   "file_extension": ".py",
   "mimetype": "text/x-python",
   "name": "python",
   "nbconvert_exporter": "python",
   "pygments_lexer": "ipython3",
   "version": "3.10.8"
  },
  "orig_nbformat": 4
 },
 "nbformat": 4,
 "nbformat_minor": 2
}
