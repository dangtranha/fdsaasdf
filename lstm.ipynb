{
 "cells": [
  {
   "cell_type": "code",
   "execution_count": 2,
   "metadata": {},
   "outputs": [],
   "source": [
    "import pandas as pd\n",
    "import numpy as np\n",
    "import os\n",
    "from pathlib import Path\n",
    "from sklearn.model_selection import train_test_split\n",
    "from keras.models import Sequential\n",
    "from keras.layers import LSTM, Dense,TimeDistributed, Bidirectional, Flatten\n",
    "from keras.layers import BatchNormalization\n",
    "from sklearn.model_selection import KFold "
   ]
  },
  {
   "cell_type": "code",
   "execution_count": 36,
   "metadata": {},
   "outputs": [],
   "source": [
    "DRUNK_PATH = Path('./Dataset/step3_result/drunk/')\n",
    "NONDRUNK_PATH = Path('./Dataset/step3_result/non_drunk/')\n",
    "# all_drunk_dataset = pd.read_csv('./Dataset/step3_result/concatenated/drunk.csv')\n",
    "# all_nondrunk_dataset = pd.read_csv('./Dataset/step3_result/concatenated/nondrunk.csv')"
   ]
  },
  {
   "cell_type": "code",
   "execution_count": 37,
   "metadata": {},
   "outputs": [],
   "source": [
    "# Creating a merged Drunk and Non-drunk dataframe seperately\n",
    "\n",
    "all_drunk_dataset = []\n",
    "all_nondrunk_dataset = []\n",
    "\n",
    "for instance in os.scandir(DRUNK_PATH): \n",
    "    instance_path = instance.path\n",
    "    dataset = pd.read_csv(instance_path, index_col=0)\n",
    "    dataset.index = pd.to_datetime(dataset.index)\n",
    "    dataset = dataset.drop(columns='check')\n",
    "    all_drunk_dataset.append(dataset)\n",
    "\n",
    "for instance in os.scandir(NONDRUNK_PATH): \n",
    "    instance_path = instance.path\n",
    "    dataset = pd.read_csv(instance_path, index_col=0)\n",
    "    dataset.index = pd.to_datetime(dataset.index)\n",
    "    dataset = dataset.drop(columns='check')\n",
    "    all_nondrunk_dataset.append(dataset)"
   ]
  },
  {
   "cell_type": "code",
   "execution_count": 38,
   "metadata": {},
   "outputs": [
    {
     "name": "stdout",
     "output_type": "stream",
     "text": [
      "(4309, 30, 584) (4309,)\n",
      "(3447, 30, 584) (3447,)\n",
      "(862, 30, 584) (862,)\n"
     ]
    }
   ],
   "source": [
    "# Data manipulation into interval of 3 seconds\n",
    "X = []\n",
    "y = []\n",
    "WINDOW_SIZE = 30\n",
    "# sum1 = 0\n",
    "# sum2 = 0\n",
    "\n",
    "for i in range (len(all_drunk_dataset)):\n",
    "    df = all_drunk_dataset[i].to_numpy()\n",
    "    # print(len(df))\n",
    "    # sum1 += len(df)\n",
    "    for j in range (0,len(df) - WINDOW_SIZE):\n",
    "        rows = [a for a in df[j:j+WINDOW_SIZE]]\n",
    "        X.append(rows)\n",
    "        y.append(1)\n",
    "        \n",
    "# print('===========================================')\n",
    "\n",
    "for i in range (len(all_nondrunk_dataset)):\n",
    "    df = all_nondrunk_dataset[i].to_numpy()\n",
    "    # print(len(df))\n",
    "    # sum2 += len(df)\n",
    "    for j in range (0,len(df) - WINDOW_SIZE):\n",
    "        rows = [a for a in df[j:j+WINDOW_SIZE]]\n",
    "        X.append(rows)\n",
    "        y.append(0)\n",
    "\n",
    "# print('===========================================')\n",
    "# print(sum1, sum2)\n",
    "\n",
    "print(np.shape(X),np.shape(y))\n",
    "\n",
    "X_train, X_test, y_train, y_test = train_test_split(X, y, test_size=0.2)\n",
    "# X_train, X_val, y_train, y_val = train_test_split(X_train, y_train, test_size=0.25)\n",
    "print(np.shape(X_train),np.shape(y_train))\n",
    "# print(np.shape(X_val),np.shape(y_val))\n",
    "print(np.shape(X_test),np.shape(y_test))"
   ]
  },
  {
   "cell_type": "code",
   "execution_count": 39,
   "metadata": {},
   "outputs": [
    {
     "name": "stdout",
     "output_type": "stream",
     "text": [
      "(4000, 584)\n",
      "(4000,)\n",
      "(1000, 584)\n",
      "(1000,)\n",
      "count    4000.000000\n",
      "mean        0.500000\n",
      "std         0.500063\n",
      "min         0.000000\n",
      "25%         0.000000\n",
      "50%         0.500000\n",
      "75%         1.000000\n",
      "max         1.000000\n",
      "Name: check, dtype: float64 count    1000.00000\n",
      "mean        0.50000\n",
      "std         0.50025\n",
      "min         0.00000\n",
      "25%         0.00000\n",
      "50%         0.50000\n",
      "75%         1.00000\n",
      "max         1.00000\n",
      "Name: check, dtype: float64\n"
     ]
    }
   ],
   "source": [
    "# # Data manipulation from regular train test split\n",
    "drunk_df = pd.read_csv('./Dataset/step3_result/concatenated/drunk.csv')\n",
    "nondrunk_df = pd.read_csv('./Dataset/step3_result/concatenated/nondrunk.csv')\n",
    "\n",
    "drunk_df = drunk_df.dropna(axis=0)\n",
    "nondrunk_df = nondrunk_df.dropna(axis=0)\n",
    "\n",
    "y_drunk = drunk_df['check']\n",
    "X_drunk = drunk_df.drop(columns='check')\n",
    "X_drunk = X_drunk.drop(columns=X_drunk.columns[0])\n",
    "\n",
    "y_nondrunk = nondrunk_df['check']\n",
    "X_nondrunk = nondrunk_df.drop(columns='check')\n",
    "X_nondrunk = X_nondrunk.drop(columns=X_nondrunk.columns[0])\n",
    "\n",
    "X_drunk, y_drunk = X_drunk[:2500], y_drunk[:2500]\n",
    "X_nondrunk, y_nondrunk = X_nondrunk[:2500], y_nondrunk[:2500]\n",
    "\n",
    "X_train_drunk, X_test_drunk, y_train_drunk, y_test_drunk = train_test_split(X_drunk, y_drunk, test_size=0.2)\n",
    "# X_train_drunk, X_val_drunk, y_train_drunk, y_val_drunk = train_test_split(X_train_drunk, y_train_drunk, test_size=0.25)\n",
    "\n",
    "X_train_nondrunk, X_test_nondrunk, y_train_nondrunk, y_test_nondrunk = train_test_split(X_nondrunk, y_nondrunk, test_size=0.2)\n",
    "# X_train_nondrunk, X_val_nondrunk, y_train_nondrunk, y_val_nondrunk = train_test_split(X_train_nondrunk, y_train_nondrunk, test_size=0.25)\n",
    "\n",
    "X_train = pd.concat([X_train_drunk, X_train_nondrunk])\n",
    "X_test = pd.concat([X_test_drunk, X_test_nondrunk])\n",
    "# X_val = pd.concat([X_val_drunk, X_val_nondrunk])\n",
    "y_train = pd.concat([y_train_drunk, y_train_nondrunk])\n",
    "y_test = pd.concat([y_test_drunk, y_test_nondrunk])\n",
    "# y_val = pd.concat([y_val_drunk, y_val_nondrunk])\n",
    "\n",
    "print(np.shape(X_train))\n",
    "print(np.shape(y_train))\n",
    "print(np.shape(X_test))\n",
    "print(np.shape(y_test))\n",
    "print(y_train.describe(), y_test.describe())\n",
    "# # print(X_train.describe())\n",
    "# # print(X_test.describe())\n",
    "# # print(X_val.describe())\n",
    "# # y_train.describe()"
   ]
  },
  {
   "cell_type": "code",
   "execution_count": 40,
   "metadata": {},
   "outputs": [],
   "source": [
    "# from keras.models import Sequential\n",
    "# from keras.layers import LSTM, Dense,TimeDistributed, Bidirectional, Flatten\n",
    "# from keras.layers import BatchNormalization\n",
    "# from sklearn.model_selection import KFold \n",
    "\n",
    "# # kfold = KFold(n_splits=5, shuffle=False,random_state=None)\n",
    "# cvscores = []\n",
    "\n",
    "# # for train, test in kfold.split(X_input, y_input):\n",
    "# #     print(train)\n",
    "# #     print(test)\n",
    "# #     X_train,Y_train = X_input[train], y_input[train]\n",
    "# #     X_test, Y_test = X_input[test], y_input[test]\n",
    "    \n",
    "\n",
    "# #     # print(np.shape(X_train),np.shape(X_test))\n",
    "# #     X_train= (np.reshape(np.array(X_train),(80,50,584)))\n",
    "# #     Y_train= (np.reshape(np.array(Y_train),(80,50,1)))\n",
    "    \n",
    "# #     X_test= (np.reshape(X_test,(20,50,584)))\n",
    "# #     Y_test= (np.reshape(Y_test,(20,50,1)))\n",
    "\n",
    "# #     model = Sequential()\n",
    "    \n",
    "# #     model.add(BatchNormalization(input_shape=(50,584)))\n",
    "# #     model.add((LSTM(50,input_shape=(50,584),activation='tanh',return_sequences=True)\n",
    "# #                             ))\n",
    "# #     model.add(TimeDistributed(Dense(1,activation='sigmoid')))\n",
    "    \n",
    "# #     model.compile(optimizer='Adam',loss='binary_crossentropy',metrics=['acc'])\n",
    "# #     model.fit(X_train, Y_train, epochs=100, batch_size=500, verbose=1)\n",
    "# #     scores = model.evaluate(X_test, Y_test, verbose=1)\n",
    "# #     print(\"%s: %.2f%%\" % (model.metrics_names[1], scores[1]*100))\n",
    "# #     cvscores.append(scores[1] * 100)\n",
    "    \n",
    "\n",
    "# # X_train,Y_train = X_input[:4000], y_input[:4000]\n",
    "# # X_test, y_test = X_input[4000:], y_input[4000:]\n",
    "\n",
    "# X_train, y_train = X_train[:4000], y_train[:4000]\n",
    "# X_test, y_test = X_test[:1000], y_test[:1000]\n",
    "\n",
    "# X_train = X_train.to_numpy()\n",
    "# y_train = y_train.to_numpy()\n",
    "# X_train = X_train.reshape(4,1000,584)\n",
    "# y_train = y_train.reshape(4,1000,1)\n",
    "# print(np.shape(X_train),np.shape(X_test))\n",
    "\n",
    "# model = Sequential()\n",
    "\n",
    "# model.add(BatchNormalization(input_shape=(1000,584)))\n",
    "# model.add((LSTM(64,input_shape=(1000, 584), activation='tanh',return_sequences=True)))\n",
    "# # model.add(LSTM(units=128))\n",
    "# model.add(TimeDistributed(Dense(1,activation='sigmoid')))\n",
    "\n",
    "# model.compile(optimizer='Adam',loss='binary_crossentropy',metrics=['accuracy'])\n",
    "# model.fit(X_train, y_train, epochs=50, batch_size=1000, verbose=1)"
   ]
  },
  {
   "cell_type": "code",
   "execution_count": 5,
   "metadata": {},
   "outputs": [
    {
     "name": "stdout",
     "output_type": "stream",
     "text": [
      "Successfully splitting the dataset, here is the information:\n",
      "X_train shape:  (3503, 584)\n",
      "y_train shape:  (3503,)\n",
      "X_test shape:  (876, 584)\n",
      "y_test shape:  (876,)\n",
      "X_val shape:  (0,)\n",
      "y_val shape:  (0,)\n",
      "----------------------------------------------------------\n"
     ]
    }
   ],
   "source": [
    "from Step_4_MLmodels.PrepareDatasetForLearning import PrepareDatasetForLearning\n",
    "prepare = PrepareDatasetForLearning()\n",
    "FOLDER_PATH = Path('./Dataset/3. Features Extracted')\n",
    "train_X, train_y, test_X, test_y, val_X, val_y = prepare.split_normal_dataset(FOLDER_PATH, val_size=0)\n",
    "train_X = np.array(train_X)\n",
    "train_y = np.array(train_y)\n",
    "test_X = np.array(test_X)\n",
    "test_y = np.array(test_y)\n",
    "val_X = np.array(val_X)\n",
    "val_y = np.array(val_y)"
   ]
  },
  {
   "cell_type": "code",
   "execution_count": 10,
   "metadata": {},
   "outputs": [],
   "source": [
    "from Step_4_MLmodels.LearningAlgorithms import ClassificationAlgorithms\n",
    "learner = ClassificationAlgorithms()\n",
    "def lstm(X_train_input, y_train_input, X_test_input):\n",
    "    depth, base = learner.find_depth_and_base(np.shape(X_train_input)[0], np.shape(X_test_input)[0])\n",
    "    X_train, y_train = X_train_input[:depth*base], y_train_input[:depth*base]\n",
    "    X_test= X_test_input[:base]\n",
    "\n",
    "    X_train = X_train.reshape(depth,base,np.shape(X_train_input)[1])\n",
    "    y_train = y_train.reshape(depth,base,1)\n",
    "    print(np.shape(X_train),np.shape(X_test))\n",
    "\n",
    "    model = Sequential()\n",
    "    model.add(BatchNormalization(input_shape=(1000,584)))\n",
    "    model.add((LSTM(64,input_shape=(1000, 584), activation='tanh',return_sequences=True)))\n",
    "    # model.add(LSTM(units=128))\n",
    "    model.add(TimeDistributed(Dense(1,activation='sigmoid')))\n",
    "    model.compile(optimizer='Adam',loss='binary_crossentropy',metrics=['accuracy'])\n",
    "    model.fit(X_train, y_train, epochs=50, batch_size=1000, verbose=1)\n",
    "    \n",
    "    class_test_y = (model.predict(X_test) > 0.5).astype(\"int32\")\n",
    "    class_test_y = class_test_y.reshape(1000,1)\n",
    "\n",
    "    return class_test_y"
   ]
  },
  {
   "cell_type": "code",
   "execution_count": 13,
   "metadata": {},
   "outputs": [
    {
     "ename": "KeyboardInterrupt",
     "evalue": "",
     "output_type": "error",
     "traceback": [
      "\u001b[1;31m---------------------------------------------------------------------------\u001b[0m",
      "\u001b[1;31mKeyboardInterrupt\u001b[0m                         Traceback (most recent call last)",
      "\u001b[1;32mc:\\Users\\Admin\\Documents\\GitHub\\EEG-ICSSE\\lstm.ipynb Cell 9\u001b[0m line \u001b[0;36m1\n\u001b[1;32m----> <a href='vscode-notebook-cell:/c%3A/Users/Admin/Documents/GitHub/EEG-ICSSE/lstm.ipynb#X11sZmlsZQ%3D%3D?line=0'>1</a>\u001b[0m depth, base \u001b[39m=\u001b[39m learner\u001b[39m.\u001b[39;49mfind_depth_and_base(np\u001b[39m.\u001b[39;49mshape(train_X)[\u001b[39m0\u001b[39;49m], np\u001b[39m.\u001b[39;49mshape(test_X)[\u001b[39m0\u001b[39;49m])\n\u001b[0;32m      <a href='vscode-notebook-cell:/c%3A/Users/Admin/Documents/GitHub/EEG-ICSSE/lstm.ipynb#X11sZmlsZQ%3D%3D?line=1'>2</a>\u001b[0m test_X \u001b[39m=\u001b[39m test_X[:base]\n\u001b[0;32m      <a href='vscode-notebook-cell:/c%3A/Users/Admin/Documents/GitHub/EEG-ICSSE/lstm.ipynb#X11sZmlsZQ%3D%3D?line=2'>3</a>\u001b[0m test_y \u001b[39m=\u001b[39m test_y[:base]\n",
      "File \u001b[1;32mc:\\Users\\Admin\\Documents\\GitHub\\EEG-ICSSE\\Step_4_MLmodels\\LearningAlgorithms.py:344\u001b[0m, in \u001b[0;36mClassificationAlgorithms.find_depth_and_base\u001b[1;34m(self, train_X, test_X)\u001b[0m\n\u001b[0;32m    342\u001b[0m best_result \u001b[39m=\u001b[39m \u001b[39m0\u001b[39m\n\u001b[0;32m    343\u001b[0m \u001b[39mwhile\u001b[39;00m (base \u001b[39m>\u001b[39m (test_X \u001b[39m-\u001b[39m \u001b[39m150\u001b[39m)):\n\u001b[1;32m--> 344\u001b[0m     \u001b[39mwhile\u001b[39;00m (base\u001b[39m*\u001b[39mdepth \u001b[39m<\u001b[39m\u001b[39m=\u001b[39m train_X):\n\u001b[0;32m    345\u001b[0m         \u001b[39mif\u001b[39;00m (base\u001b[39m*\u001b[39mdepth \u001b[39m>\u001b[39m\u001b[39m=\u001b[39m best_result):\n\u001b[0;32m    346\u001b[0m             best_result \u001b[39m=\u001b[39m base\u001b[39m*\u001b[39mdepth\n",
      "\u001b[1;31mKeyboardInterrupt\u001b[0m: "
     ]
    }
   ],
   "source": [
    "print(np.shape(train_X)[0], np.shape(test_X)[0])\n",
    "depth, base = learner.find_depth_and_base(np.shape(train_X)[0], np.shape(test_X)[0])\n",
    "test_X = test_X[:base]\n",
    "test_y = test_y[:base]\n",
    "test_X = test_X.reshape(1,base,np.shape(test_X)[1])\n",
    "test_y = test_y.reshape(1,base,1)\n",
    "class_test_y = lstm(X_train, y_train, X_test)\n",
    "y_test = y_test.reshape(base,1)\n",
    "y_test = np.ravel(y_test)\n",
    "class_test_y = np.ravel(class_test_y)"
   ]
  },
  {
   "cell_type": "code",
   "execution_count": 44,
   "metadata": {},
   "outputs": [
    {
     "data": {
      "image/png": "[encoded data removed]",
      "text/plain": [
       "<Figure size 640x480 with 2 Axes>"
      ]
     },
     "metadata": {},
     "output_type": "display_data"
    },
    {
     "name": "stdout",
     "output_type": "stream",
     "text": [
      "Accuracy: 0.997\n",
      "Precision: 1.0\n",
      "Recall:  0.994\n",
      "F1 Score:  0.9969909729187563\n"
     ]
    }
   ],
   "source": [
    "from sklearn.metrics import confusion_matrix, ConfusionMatrixDisplay\n",
    "from sklearn.metrics import precision_score, recall_score, f1_score, accuracy_score, confusion_matrix, ConfusionMatrixDisplay\n",
    "import matplotlib.pyplot as plt\n",
    "\n",
    "\n",
    "confusionmatrix_rf_final = confusion_matrix(y_test, class_test_y, labels=[0,1])\n",
    "cm_display = ConfusionMatrixDisplay(confusion_matrix = confusionmatrix_rf_final, display_labels = [\"non-drunk\", \"drunk\"])\n",
    "  \n",
    "cm_display.plot(cmap=\"Blues\")\n",
    "plt.show()\n",
    "cm_display.figure_.savefig('lstm_confusion_matrix.png')\n",
    "print(\"Accuracy:\", accuracy_score(y_test, class_test_y))\n",
    "print(\"Precision:\" , precision_score(y_test, class_test_y))\n",
    "print(\"Recall: \", recall_score(y_test, class_test_y))\n",
    "print(\"F1 Score: \", f1_score(y_true=y_test, y_pred=class_test_y))"
   ]
  },
  {
   "cell_type": "code",
   "execution_count": 45,
   "metadata": {},
   "outputs": [],
   "source": [
    "model.save_weights('./final_lstm_model_BCI.h5')"
   ]
  }
 ],
 "metadata": {
  "kernelspec": {
   "display_name": "deeplearning",
   "language": "python",
   "name": "python3"
  },
  "language_info": {
   "codemirror_mode": {
    "name": "ipython",
    "version": 3
   },
   "file_extension": ".py",
   "mimetype": "text/x-python",
   "name": "python",
   "nbconvert_exporter": "python",
   "pygments_lexer": "ipython3",
   "version": "3.11.2"
  },
  "orig_nbformat": 4
 },
 "nbformat": 4,
 "nbformat_minor": 2
}
