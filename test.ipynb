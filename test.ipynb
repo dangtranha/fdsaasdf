{
 "cells": [
  {
   "cell_type": "code",
   "execution_count": 9,
   "metadata": {},
   "outputs": [],
   "source": [
    "import pandas as pd\n",
    "import numpy as np\n",
    "import util.util as util\n",
    "import numpy\n",
    "import copy\n",
    "import os\n",
    "from pathlib import Path\n",
    "from sklearn.model_selection import train_test_split"
   ]
  },
  {
   "cell_type": "code",
   "execution_count": 10,
   "metadata": {},
   "outputs": [
    {
     "name": "stdout",
     "output_type": "stream",
     "text": [
      "(3065, 584)\n",
      "(876, 584)\n"
     ]
    }
   ],
   "source": [
    "FOLDER_PATH = Path('./Dataset/3. Features Extracted')\n",
    "X_train = []\n",
    "X_test = []\n",
    "X_val = []\n",
    "y_train = []\n",
    "y_test = []\n",
    "y_val = []\n",
    "all_datasets = []\n",
    "label = []\n",
    "for instance in os.scandir(FOLDER_PATH): # go through all instances of experiments\n",
    "    instance_path = instance.path\n",
    "    dataset = pd.read_csv(instance_path, index_col=0)\n",
    "    dataset.index = pd.to_datetime(dataset.index)\n",
    "    temp = []\n",
    "    if \"non\" in instance.name:\n",
    "        for i in range(len(dataset)):\n",
    "            label.append(0)\n",
    "    else:  \n",
    "        for i in range(len(dataset)):\n",
    "            label.append(1)\n",
    "    all_datasets.append(dataset)\n",
    "\n",
    "all_datasets = pd.concat(all_datasets)\n",
    "\n",
    "X_train, X_test, y_train, y_test = train_test_split(all_datasets, label, test_size=0.2)\n",
    "X_train, X_val, y_train, y_val = train_test_split(X_train, y_train, test_size=0.125)\n",
    "\n",
    "print(np.shape(X_train))\n",
    "print(np.shape(X_test))"
   ]
  },
  {
   "cell_type": "code",
   "execution_count": 11,
   "metadata": {},
   "outputs": [
    {
     "name": "stdout",
     "output_type": "stream",
     "text": [
      "train_size = (3065, 584)\n",
      "3065\n",
      "306\n",
      "30\n",
      "3\n",
      "0\n",
      "depth = 3\n",
      "i = 1000\n"
     ]
    }
   ],
   "source": [
    "train_size = np.shape(X_train)\n",
    "test_size = np.shape(X_test)\n",
    "\n",
    "print('train_size =', train_size)\n",
    "\n",
    "n = train_size[0]\n",
    "i = 0\n",
    "print(n)\n",
    "while(n > 0):\n",
    "    depth = n % 10\n",
    "    i += 1\n",
    "    n = (int)(n/10)\n",
    "    print(n)\n",
    "print('depth =', depth)\n",
    "print('i =', pow(10,i-1))"
   ]
  },
  {
   "cell_type": "code",
   "execution_count": 14,
   "metadata": {},
   "outputs": [
    {
     "name": "stdout",
     "output_type": "stream",
     "text": [
      "3065 876\n",
      "876\n",
      "1752\n",
      "2628\n",
      "3064\n",
      "Depth: 4\n",
      "Base: 766\n"
     ]
    }
   ],
   "source": [
    "train_X = np.shape(X_train)[0]\n",
    "test_X = np.shape(X_test)[0]\n",
    "\n",
    "def find_depth_and_base(train_X, test_X):\n",
    "    best_depth = 1\n",
    "    depth = 1\n",
    "    best_base = test_X\n",
    "    base = test_X\n",
    "    best_result = 0\n",
    "    while (base > (test_X - 150)):\n",
    "        while (base*depth <= train_X):\n",
    "            if (base*depth >= best_result):\n",
    "                best_result = base*depth\n",
    "                best_base = base\n",
    "                best_depth = depth\n",
    "            depth += 1\n",
    "        base -= 1\n",
    "    return best_depth, best_base\n",
    "\n",
    "print(train_X, test_X)\n",
    "depth, base = find_depth_and_base(train_X, test_X)\n",
    "print(\"Depth:\", depth)\n",
    "print(\"Base:\", base)"
   ]
  },
  {
   "cell_type": "code",
   "execution_count": 1,
   "metadata": {},
   "outputs": [],
   "source": [
    "import os\n"
   ]
  },
  {
   "cell_type": "code",
   "execution_count": 5,
   "metadata": {},
   "outputs": [],
   "source": [
    "file_path = './Dataset/UCI/0. Initial Dataset/co2a0000364/co2a0000364.rd.000.txt'"
   ]
  },
  {
   "cell_type": "code",
   "execution_count": 7,
   "metadata": {},
   "outputs": [
    {
     "data": {
      "text/plain": [
       "['FP1',\n",
       " 'FP2',\n",
       " 'F7',\n",
       " 'F8',\n",
       " 'AF1',\n",
       " 'AF2',\n",
       " 'FZ',\n",
       " 'F4',\n",
       " 'F3',\n",
       " 'FC6',\n",
       " 'FC5',\n",
       " 'FC2',\n",
       " 'FC1',\n",
       " 'T8',\n",
       " 'T7',\n",
       " 'CZ',\n",
       " 'C3',\n",
       " 'C4',\n",
       " 'CP5',\n",
       " 'CP6',\n",
       " 'CP1',\n",
       " 'CP2',\n",
       " 'P3',\n",
       " 'P4',\n",
       " 'PZ',\n",
       " 'P8',\n",
       " 'P7',\n",
       " 'PO2',\n",
       " 'PO1',\n",
       " 'O2',\n",
       " 'O1',\n",
       " 'X',\n",
       " 'AF7',\n",
       " 'AF8',\n",
       " 'F5',\n",
       " 'F6',\n",
       " 'FT7',\n",
       " 'FT8',\n",
       " 'FPZ',\n",
       " 'FC4',\n",
       " 'FC3',\n",
       " 'C6',\n",
       " 'C5',\n",
       " 'F2',\n",
       " 'F1',\n",
       " 'TP8',\n",
       " 'TP7',\n",
       " 'AFZ',\n",
       " 'CP3',\n",
       " 'CP4',\n",
       " 'P5',\n",
       " 'P6',\n",
       " 'C1',\n",
       " 'C2',\n",
       " 'PO7',\n",
       " 'PO8',\n",
       " 'FCZ',\n",
       " 'POZ',\n",
       " 'OZ',\n",
       " 'P2',\n",
       " 'P1',\n",
       " 'CPZ',\n",
       " 'nd',\n",
       " 'Y']"
      ]
     },
     "execution_count": 7,
     "metadata": {},
     "output_type": "execute_result"
    }
   ],
   "source": [
    "channels = []\n",
    "\n",
    "with open(file_path, 'r') as file:\n",
    "    lines = file.readlines()[4:]  # Skip the first 4 lines\n",
    "    \n",
    "    # Iterate through lines and store channel values\n",
    "    for line in lines:\n",
    "        if line.startswith('#'):\n",
    "            channel_info = line.split()[1]\n",
    "            channels.append(channel_info)\n",
    "\n",
    "channels"
   ]
  }
 ],
 "metadata": {
  "kernelspec": {
   "display_name": "deeplearning",
   "language": "python",
   "name": "python3"
  },
  "language_info": {
   "codemirror_mode": {
    "name": "ipython",
    "version": 3
   },
   "file_extension": ".py",
   "mimetype": "text/x-python",
   "name": "python",
   "nbconvert_exporter": "python",
   "pygments_lexer": "ipython3",
   "version": "3.10.8"
  }
 },
 "nbformat": 4,
 "nbformat_minor": 2
}
