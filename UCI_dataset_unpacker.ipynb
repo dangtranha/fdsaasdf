{
 "cells": [
  {
   "cell_type": "code",
   "execution_count": null,
   "metadata": {},
   "outputs": [],
   "source": [
    "import os\n",
    "import tarfile\n",
    "import gzip\n",
    "import shutil\n",
    "import subprocess"
   ]
  },
  {
   "cell_type": "code",
   "execution_count": null,
   "metadata": {},
   "outputs": [],
   "source": [
    "init_folder_path = './Dataset/eeg_full'\n",
    "des_folder_path = './Dataset/UCI/0. Initial Dataset'\n",
    "temp_folder_path = './Dataset/temp_extract'\n",
    "os.makedirs(des_folder_path, exist_ok=True)"
   ]
  },
  {
   "cell_type": "markdown",
   "metadata": {},
   "source": [
    "### Extracting subject's archives\n"
   ]
  },
  {
   "cell_type": "code",
   "execution_count": null,
   "metadata": {},
   "outputs": [],
   "source": [
    "tar_files = os.listdir(init_folder_path)\n",
    "\n",
    "for file_name in tar_files:\n",
    "    tar_file_path = os.path.join(init_folder_path, file_name)\n",
    "    if file_name.endswith('.tar.gz'):\n",
    "        with tarfile.open(tar_file_path, 'r:gz') as tar_ref:\n",
    "            tar_ref.extractall(path=temp_folder_path)\n",
    "\n",
    "folders = os.listdir(temp_folder_path)"
   ]
  },
  {
   "cell_type": "markdown",
   "metadata": {},
   "source": [
    "### Extracting each subject's trials"
   ]
  },
  {
   "cell_type": "code",
   "execution_count": null,
   "metadata": {},
   "outputs": [],
   "source": [
    "for folder in folders:\n",
    "    tmp_folder_path = os.path.join(temp_folder_path, folder)\n",
    "    des_subfolder_path = os.path.join(des_folder_path, folder)\n",
    "\n",
    "    os.makedirs(des_subfolder_path, exist_ok=True)\n",
    "    tar_files = os.listdir(tmp_folder_path)\n",
    "    for file_name in tar_files:\n",
    "        tar_file_path = os.path.join(tmp_folder_path, file_name)\n",
    "        out_path = os.path.join(des_subfolder_path, file_name.replace('.gz',''))\n",
    "\n",
    "        with gzip.open(tar_file_path, 'rb') as gz_file:\n",
    "            with open(out_path, 'wb') as new_file:\n",
    "                new_file.write(gz_file.read())"
   ]
  },
  {
   "cell_type": "markdown",
   "metadata": {},
   "source": [
    "### Extracing the .001 archives and converting the file in to .txt"
   ]
  },
  {
   "cell_type": "code",
   "execution_count": null,
   "metadata": {},
   "outputs": [],
   "source": [
    "for folder in folders:\n",
    "    folder_path = os.path.join(des_folder_path, folder)\n",
    "    file_name = folder + '.rd.001'\n",
    "    file_path = os.path.join(folder_path, file_name)\n",
    "    try:\n",
    "        extract_command = f'WinRAR x {file_path} {folder_path}'\n",
    "        subprocess.run(extract_command, shell=True)\n",
    "        os.remove(file_path)\n",
    "        old_file_name = folder + '.rd'\n",
    "        os.rename(os.path.join(folder_path,old_file_name), os.path.join(folder_path,file_name))\n",
    "    except:\n",
    "        pass\n",
    "    files = os.listdir(folder_path)\n",
    "    for file in files:\n",
    "        old_name = os.path.join(folder_path, file)\n",
    "        new_name = os.path.join(folder_path, file+'.txt')\n",
    "        os.rename(old_name,new_name)"
   ]
  },
  {
   "cell_type": "markdown",
   "metadata": {},
   "source": [
    "### Removing the temp extract files"
   ]
  },
  {
   "cell_type": "code",
   "execution_count": null,
   "metadata": {},
   "outputs": [],
   "source": [
    "shutil.rmtree(temp_folder_path)"
   ]
  }
 ],
 "metadata": {
  "language_info": {
   "name": "python"
  }
 },
 "nbformat": 4,
 "nbformat_minor": 2
}
